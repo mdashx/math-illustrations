{
 "cells": [
  {
   "cell_type": "code",
   "execution_count": 1,
   "metadata": {},
   "outputs": [
    {
     "data": {
      "image/svg+xml": [
       "<svg baseProfile=\"full\" height=\"200\" version=\"1.1\" viewBox=\"0 0 1000 1000\" width=\"200\" xmlns=\"http://www.w3.org/2000/svg\">\n",
       "        <g transform=\"translate(0, 1000) scale(1,-1)\">\n",
       "            \n",
       "  <line stroke=\"black\" stroke-width=\"3\" x1=\"144\" x2=\"288\" y1=\"144\" y2=\"288\"/>\n",
       "\n",
       "        </g>\n",
       "    </svg>"
      ],
      "text/plain": [
       "<IPython.core.display.SVG object>"
      ]
     },
     "execution_count": 1,
     "metadata": {},
     "output_type": "execute_result"
    }
   ],
   "source": [
    "\"\"\"\n",
    "Mathematical Illustrations In PostScript\n",
    "A Manual of Geometry and PostScript\n",
    "by Bill Casselman\n",
    "http://www.math.ubc.ca/~cass/graphics/manual/\n",
    "\n",
    "Previously I completed chapter one of Casselman's text using PostScript: \n",
    "https://www.mdashx.com/articles/math-illustrations-with-postscript/\n",
    "\n",
    "It was fun, but eventually I used PostScript enough to conclude that it's \n",
    "not the tool I want to use. So I'm going to try following the exercises\n",
    "in the book using Python and SVG instead.\n",
    "\"\"\"\n",
    "\n",
    "from collections import namedtuple\n",
    "\n",
    "from IPython.display import SVG\n",
    "\n",
    "##### 1.1. Simple drawing #####\n",
    "\n",
    "# GS>newpath\n",
    "# GS>144 144 moveto\n",
    "# GS>288 288 lineto\n",
    "# GS>stroke\n",
    "# GS>\n",
    "\n",
    "# PostScript coordinates in this example start at the lower left,\n",
    "# but in SVG (0,0) is in the upper left corner.\n",
    "#\n",
    "# The content in chapter one describes scaling and transforming \n",
    "# coordinate systems in PostScript, and here I'm exploring the same\n",
    "# topic in SVG.\n",
    "#\n",
    "# I'm using translate to move the origin and scale to flip the x-axis\n",
    "# I'm setting the actual coordinate system using viewbox and then\n",
    "# changing the actual size on the screen using height and width attributes.\n",
    "# So in the 200x200 canvas I actually have a 1000x1000 grid.\n",
    "\n",
    "def get_plane(canvas_height, canvas_width, height, width, children):\n",
    "    return f\"\"\"\n",
    "    <svg version=\"1.1\"\n",
    "         height=\"{canvas_height}\"\n",
    "         width=\"{canvas_width}\"\n",
    "         baseProfile=\"full\"\n",
    "         viewBox=\"0 0 {width} {height}\"\n",
    "         xmlns=\"http://www.w3.org/2000/svg\">\n",
    "        <g transform=\"translate(0, {height}) scale(1,-1)\">\n",
    "            {children}\n",
    "        </g>\n",
    "    </svg>\n",
    "    \"\"\"\n",
    "\n",
    "children = \"\"\"\n",
    "  <line x1=\"144\" x2=\"288\" y1=\"144\" y2=\"288\" stroke=\"black\" stroke-width=\"3\"/>\n",
    "\"\"\"\n",
    "\n",
    "plane_height = 1000\n",
    "plane_width = 1000\n",
    "data = get_plane(200, 200, plane_height, plane_width, children)\n",
    "SVG(data=data)\n",
    "\n",
    "\n",
    "\n"
   ]
  },
  {
   "cell_type": "code",
   "execution_count": 2,
   "metadata": {},
   "outputs": [
    {
     "data": {
      "image/svg+xml": [
       "<svg baseProfile=\"full\" height=\"200\" lxmns=\"http://www.w3.org/2000/svg\" version=\"1.1\" viewBox=\"0 0 1000 1000\" width=\"200\"><g transform=\"translate(0, 1000) scale(1,-1)\"><line stroke=\"black\" stroke-width=\"3\" x1=\"144\" x2=\"288\" y1=\"144\" y2=\"288\"/></g></svg>"
      ],
      "text/plain": [
       "<IPython.core.display.SVG object>"
      ]
     },
     "execution_count": 2,
     "metadata": {},
     "output_type": "execute_result"
    }
   ],
   "source": [
    "# Using lxml instead of string interpolation will probably save me lots\n",
    "# of headaches in the long run.\n",
    "\n",
    "from lxml import etree\n",
    "\n",
    "def get_svg_element(canvas_height, canvas_width, height, width, x_translate=0, y_translate=0):\n",
    "    svg = etree.Element(\n",
    "        \"svg\",\n",
    "        version=\"1.1\",\n",
    "        height=str(canvas_height),\n",
    "        width=str(canvas_width),\n",
    "        baseProfile=\"full\",\n",
    "        viewBox=f\"{x_translate} {y_translate} {width} {height}\",\n",
    "        lxmns=\"http://www.w3.org/2000/svg\",\n",
    "    )\n",
    "    return svg\n",
    "\n",
    "height = 1000\n",
    "width = 1000\n",
    "plane = etree.Element(\"g\", transform=f\"translate(0, {height}) scale(1,-1)\")\n",
    "svg = get_svg_element(200, 200, height, width)\n",
    "svg.append(plane)\n",
    "line = etree.fromstring('<line x1=\"144\" x2=\"288\" y1=\"144\" y2=\"288\" stroke=\"black\" stroke-width=\"3\"/>')\n",
    "plane.append(line)\n",
    "\n",
    "SVG(etree.tostring(svg))"
   ]
  },
  {
   "cell_type": "code",
   "execution_count": 3,
   "metadata": {},
   "outputs": [
    {
     "data": {
      "image/svg+xml": [
       "<svg baseProfile=\"full\" height=\"500\" lxmns=\"http://www.w3.org/2000/svg\" version=\"1.1\" viewBox=\"-5 -5 10 10\" width=\"500\"><g transform=\"scale(1,-1)\"><circle cx=\"0\" cy=\"0\" fill=\"black\" r=\".1\"/><line stroke=\"black\" stroke-width=\".05\" x1=\"-5\" x2=\"5\" y1=\"5\" y2=\"5\"/><line stroke=\"black\" stroke-width=\".05\" x1=\"5\" x2=\"5\" y1=\"5\" y2=\"-5\"/><line stroke=\"black\" stroke-width=\".05\" x1=\"5\" x2=\"-5\" y1=\"-5\" y2=\"-5\"/><line stroke=\"black\" stroke-width=\".05\" x1=\"-5\" x2=\"-5\" y1=\"-5\" y2=\"5\"/><line stroke=\"black\" stroke-width=\".025\" x1=\"-5\" x2=\"5\" y1=\"0\" y2=\"0\"/><line stroke=\"black\" stroke-width=\".025\" x1=\"0\" x2=\"0\" y1=\"5\" y2=\"-5\"/></g></svg>"
      ],
      "text/plain": [
       "<IPython.core.display.SVG object>"
      ]
     },
     "execution_count": 3,
     "metadata": {},
     "output_type": "execute_result"
    }
   ],
   "source": [
    "# I want to move (0,0) to the center of the viewport and \n",
    "# setup a good grid size for drawing the I.47 proof\n",
    "\n",
    "svg = get_svg_element(500, 500, 10, 10, -5, -5)\n",
    "plane = etree.Element(\"g\", transform=\"scale(1,-1)\")\n",
    "svg.append(plane)\n",
    "center = etree.fromstring('<circle cx=\"0\" cy=\"0\" r=\".1\" fill=\"black\" />')\n",
    "plane.append(center)\n",
    "plane.append(etree.fromstring('<line x1=\"-5\" y1=\"5\" x2=\"5\" y2=\"5\" stroke=\"black\" stroke-width=\".05\"/>'))\n",
    "plane.append(etree.fromstring('<line x1=\"5\" y1=\"5\" x2=\"5\" y2=\"-5\" stroke=\"black\" stroke-width=\".05\"/>'))\n",
    "plane.append(etree.fromstring('<line x1=\"5\" y1=\"-5\" x2=\"-5\" y2=\"-5\" stroke=\"black\" stroke-width=\".05\"/>'))\n",
    "plane.append(etree.fromstring('<line x1=\"-5\" y1=\"-5\" x2=\"-5\" y2=\"5\" stroke=\"black\" stroke-width=\".05\"/>'))\n",
    "plane.append(etree.fromstring('<line x1=\"-5\" y1=\"0\" x2=\"5\" y2=\"0\" stroke=\"black\" stroke-width=\".025\"/>'))\n",
    "plane.append(etree.fromstring('<line x1=\"0\" y1=\"5\" x2=\"0\" y2=\"-5\" stroke=\"black\" stroke-width=\".025\"/>'))\n",
    "SVG(data=etree.tostring(svg))"
   ]
  },
  {
   "cell_type": "code",
   "execution_count": 4,
   "metadata": {},
   "outputs": [
    {
     "data": {
      "image/svg+xml": [
       "<svg baseProfile=\"full\" height=\"500\" lxmns=\"http://www.w3.org/2000/svg\" version=\"1.1\" viewBox=\"-5.0 -5.0 10 10\" width=\"500\"><g transform=\"scale(1,-1)\"><circle cx=\"0\" cy=\"1.7320508075688772\" r=\".05\"/><circle cx=\"-1\" cy=\"0\" r=\".05\"/><circle cx=\"3\" cy=\"0\" r=\".05\"/><circle cx=\"-1\" cy=\"-4.0\" r=\".05\"/><circle cx=\"3\" cy=\"-4.0\" r=\".05\"/><circle cx=\"-2.732050807568877\" cy=\"0.9999999999999999\" r=\".05\"/><circle cx=\"-1.7320508075688772\" cy=\"2.732050807568877\" r=\".05\"/><circle cx=\"1.7320508075688776\" cy=\"4.732050807568877\" r=\".05\"/><circle cx=\"4.732050807568878\" cy=\"3.0\" r=\".05\"/><circle cx=\"0\" cy=\"-4.0\" r=\".05\"/><circle cx=\"0\" cy=\"0\" r=\".05\"/></g></svg>"
      ],
      "text/plain": [
       "<IPython.core.display.SVG object>"
      ]
     },
     "execution_count": 4,
     "metadata": {},
     "output_type": "execute_result"
    }
   ],
   "source": [
    "###### Exercise 1.10. #####\n",
    "# Draw in PostScript the following pictures, taken, with modifications, from \n",
    "# the proof of Proposition I.47 in the standard edition of Euclid’s Elements. \n",
    "# Of course you might want to look up Euclid’s argument first. One thing to \n",
    "# keep in mind is that in drawing a complex figure, each conceptual component \n",
    "# in the program should be handled as a unit. A triangle is not just a bunch of \n",
    "# line segments, but line segments assembled in a particular order and style. \n",
    "# You should also think here about about using colors in an intelligent way to \n",
    "# help explain Euclid’s proof.\n",
    "\n",
    "# https://mathcs.clarku.edu/~djoyce/elements/bookI/propI47.html\n",
    "\n",
    "import math\n",
    "\n",
    "Point = namedtuple('Point', 'x y')\n",
    "\n",
    "def get_distance(p1, p2):\n",
    "    return math.sqrt((p2.x - p1.x)**2 + (p2.y - p1.y)**2)\n",
    "\n",
    "def get_vector(p1, p2):\n",
    "    # https://math.stackexchange.com/questions/175896/finding-a-point-along-a-line-a-certain-distance-away-from-another-point\n",
    "    # https://math.stackexchange.com/questions/426807/how-does-this-vector-addition-work-in-geometry \n",
    "    vector = [p2.x- p1.x, p2.y - p1.y]\n",
    "    length = math.sqrt(vector[0]**2 + vector[1]**2)\n",
    "    unit_vector = (vector[0] / length, vector[1] / length)\n",
    "    return unit_vector\n",
    "    \n",
    "def get_point_from_vector(unit_vector, point, distance):   \n",
    "    # Multiply the unit vector by the distance of the new point and \n",
    "    # add that to the terminal point (p2)\n",
    "    return Point((point.x + (unit_vector[0] * distance)), (point.y + (unit_vector[1] * distance)))\n",
    "\n",
    "class ShowPoint:\n",
    "    def __init__(self, center):\n",
    "        self.center = center\n",
    "        \n",
    "    def element(self):\n",
    "        return etree.Element(\n",
    "            \"circle\",\n",
    "            cx=str(self.center.x),\n",
    "            cy=str(self.center.y),\n",
    "            r =\".05\"\n",
    "        )\n",
    "        \n",
    "size = 10\n",
    "translate = -(size/2)\n",
    "svg = get_svg_element(500, 500, size, size, translate, translate)\n",
    "plane = etree.Element(\"g\", transform=\"scale(1,-1)\")\n",
    "svg.append(plane)    \n",
    "        \n",
    "# Triangle: (-1, 0) - left, (3, 0) - right, (0, sqrt 3) - top        \n",
    "\n",
    "origin = Point(0,0)\n",
    "a = Point(0, math.sqrt(3))\n",
    "b = Point(-1, 0)\n",
    "c = Point(3, 0)\n",
    "\n",
    "length_ab = get_distance(a, b)\n",
    "length_bc = get_distance(b, c)\n",
    "length_ac = get_distance(a, c)\n",
    "\n",
    "vector_ba = get_vector(b, a)\n",
    "vector_ca = get_vector(c, a)\n",
    "\n",
    "d = Point(b.x, b.y - length_bc)\n",
    "e = Point(c.x, c.y - length_bc)\n",
    "f = get_point_from_vector(vector_ca, b, length_ab)\n",
    "g = get_point_from_vector(vector_ca, a, length_ab)\n",
    "h = get_point_from_vector(vector_ba, a, length_ac)\n",
    "k = get_point_from_vector(vector_ba, c, length_ac)\n",
    "l = Point(0, 0 - length_bc)\n",
    "\n",
    "for point in [a,b,c,d,e,f,g,h,k,l,origin]:\n",
    "    plane.append(ShowPoint(point).element()) \n",
    "\n",
    "SVG(data=etree.tostring(svg))\n"
   ]
  },
  {
   "cell_type": "code",
   "execution_count": 5,
   "metadata": {},
   "outputs": [
    {
     "data": {
      "image/svg+xml": [
       "<svg baseProfile=\"full\" height=\"500\" lxmns=\"http://www.w3.org/2000/svg\" version=\"1.1\" viewBox=\"-5.0 -5.0 10 10\" width=\"500\"><g transform=\"scale(1,-1)\"><polygon fill=\"#ff9999\" points=\"0,1.7320508075688772 -1,0 -2.732050807568877,0.9999999999999999 -1.7320508075688772,2.732050807568877\" stroke=\"black\" stroke-width=\"0\"/><polygon fill=\"#ff9999\" points=\"0,0 -1,0 -1,-4.0 0,-4.0\" stroke=\"black\" stroke-width=\"0\"/><polygon fill=\"#9cf\" points=\"0,1.7320508075688772 3,0 4.732050807568878,3.0 1.7320508075688776,4.732050807568877\" stroke=\"black\" stroke-width=\"0\"/><polygon fill=\"#9cf\" points=\"0,0 3,0 3,-4.0 0,-4.0\" stroke=\"black\" stroke-width=\"0\"/><line stroke=\"black\" stroke-width=\"0.02\" x1=\"0\" x2=\"0\" y1=\"0\" y2=\"1.7320508075688772\"/><line stroke=\"#ff5050\" stroke-width=\"0.05\" x1=\"-1\" x2=\"-1\" y1=\"-4.0\" y2=\"0\"/><line stroke=\"#ff5050\" stroke-width=\"0.05\" x1=\"-1\" x2=\"-2.732050807568877\" y1=\"0\" y2=\"0.9999999999999999\"/><line stroke=\"#ff5050\" stroke-width=\"0.05\" x1=\"-1\" x2=\"0\" y1=\"0\" y2=\"1.7320508075688772\"/><line stroke=\"#ff5050\" stroke-width=\"0.05\" x1=\"-1\" x2=\"0\" y1=\"-4.0\" y2=\"1.7320508075688772\"/><line stroke=\"#ff5050\" stroke-width=\"0.05\" x1=\"3\" x2=\"-2.732050807568877\" y1=\"0\" y2=\"0.9999999999999999\"/><line stroke=\"#3399ff\" stroke-width=\"0.05\" x1=\"3\" x2=\"3\" y1=\"-4.0\" y2=\"0\"/><line stroke=\"#3399ff\" stroke-width=\"0.05\" x1=\"3\" x2=\"4.732050807568878\" y1=\"0\" y2=\"3.0\"/><line stroke=\"#3399ff\" stroke-width=\"0.05\" x1=\"3\" x2=\"0\" y1=\"0\" y2=\"1.7320508075688772\"/><line stroke=\"#3399ff\" stroke-width=\"0.05\" x1=\"-1\" x2=\"3\" y1=\"0\" y2=\"0\"/><line stroke=\"#3399ff\" stroke-width=\"0.05\" x1=\"0\" x2=\"3\" y1=\"1.7320508075688772\" y2=\"-4.0\"/><line stroke=\"#3399ff\" stroke-width=\"0.05\" x1=\"-1\" x2=\"4.732050807568878\" y1=\"0\" y2=\"3.0\"/></g></svg>"
      ],
      "text/plain": [
       "<IPython.core.display.SVG object>"
      ]
     },
     "execution_count": 5,
     "metadata": {},
     "output_type": "execute_result"
    }
   ],
   "source": [
    "class SVGShape:\n",
    "    def __init__(self, points, stroke_width=0.025, stroke_color=\"black\", fill=\"none\"):\n",
    "        self.points = points\n",
    "        self.stroke_width = stroke_width\n",
    "        self.stroke_color = stroke_color\n",
    "        self.fill = fill\n",
    "        \n",
    "        \n",
    "class Line(SVGShape):\n",
    "    def element(self):\n",
    "        self.points = [Point(str(p.x), str(p.y)) for p in self.points]\n",
    "        this_element = etree.Element(\n",
    "            \"line\",\n",
    "            x1=self.points[0].x,\n",
    "            y1=self.points[0].y,\n",
    "            x2=self.points[1].x,\n",
    "            y2=self.points[1].y,\n",
    "            stroke=self.stroke_color\n",
    "        )\n",
    "        this_element.set(\"stroke-width\", str(self.stroke_width))\n",
    "        return this_element\n",
    "\n",
    "\n",
    "class Polygon(SVGShape):\n",
    "    def element(self):\n",
    "        points_list = \" \".join([f\"{p.x},{p.y}\" for p in self.points])\n",
    "        this_element = etree.Element(\n",
    "            \"polygon\", \n",
    "            points=points_list, \n",
    "            stroke=self.stroke_color, \n",
    "            fill=self.fill\n",
    "        )\n",
    "        this_element.set(\"stroke-width\", str(self.stroke_width))\n",
    "        return this_element\n",
    "\n",
    "elements = []\n",
    "\n",
    "fill_1 = \"#ff9999\"\n",
    "fill_2 = \"#9cf\"\n",
    "stroke_1 = \"#ff5050\"\n",
    "stroke_2 = \"#3399ff\"\n",
    "width_1 = \"0.05\"\n",
    "\n",
    "elements.append(Polygon([a, b, f, g], stroke_width=\"0\", fill=fill_1))\n",
    "elements.append(Polygon([origin, b, d, l], stroke_width=\"0\", fill=fill_1))\n",
    "elements.append(Polygon([a, c, k, h], stroke_width=\"0\", fill=fill_2))\n",
    "elements.append(Polygon([origin, c, e, l], stroke_width=\"0\", fill=fill_2))\n",
    "\n",
    "elements.append(Line([origin, a], stroke_width=\"0.02\", stroke_color=\"black\"))\n",
    "\n",
    "elements.append(Line([d, b], stroke_width=width_1, stroke_color=stroke_1))\n",
    "elements.append(Line([b, f], stroke_width=width_1, stroke_color=stroke_1))\n",
    "elements.append(Line([b, a], stroke_width=width_1, stroke_color=stroke_1))\n",
    "elements.append(Line([d, a], stroke_width=width_1, stroke_color=stroke_1))\n",
    "elements.append(Line([c, f], stroke_width=width_1, stroke_color=stroke_1))\n",
    "\n",
    "elements.append(Line([e, c], stroke_width=width_1, stroke_color=stroke_2))\n",
    "elements.append(Line([c, k], stroke_width=width_1, stroke_color=stroke_2))\n",
    "elements.append(Line([c, a], stroke_width=width_1, stroke_color=stroke_2))\n",
    "elements.append(Line([b, c], stroke_width=width_1, stroke_color=stroke_2))\n",
    "elements.append(Line([a, e], stroke_width=width_1, stroke_color=stroke_2))\n",
    "elements.append(Line([b, k], stroke_width=width_1, stroke_color=stroke_2))\n",
    "\n",
    "size = 10\n",
    "translate = -(size/2)\n",
    "svg = get_svg_element(500, 500, size, size, translate, translate)\n",
    "plane = etree.Element(\"g\", transform=\"scale(1,-1)\")\n",
    "svg.append(plane)\n",
    "\n",
    "for element in elements:\n",
    "    plane.append(element.element())\n",
    "\n",
    "SVG(data=etree.tostring(svg))"
   ]
  }
 ],
 "metadata": {
  "kernelspec": {
   "display_name": "Python 3",
   "language": "python",
   "name": "python3"
  },
  "language_info": {
   "codemirror_mode": {
    "name": "ipython",
    "version": 3
   },
   "file_extension": ".py",
   "mimetype": "text/x-python",
   "name": "python",
   "nbconvert_exporter": "python",
   "pygments_lexer": "ipython3",
   "version": "3.6.7"
  }
 },
 "nbformat": 4,
 "nbformat_minor": 2
}
