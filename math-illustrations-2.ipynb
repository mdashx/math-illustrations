{
 "cells": [
  {
   "cell_type": "code",
   "execution_count": 88,
   "metadata": {},
   "outputs": [
    {
     "data": {
      "image/svg+xml": [
       "<svg baseProfile=\"full\" height=\"500\" lxmns=\"http://www.w3.org/2000/svg\" version=\"1.1\" viewBox=\"-5.0 -5.0 10 10\" width=\"500\"><g transform=\"scale(1,-1)\"><line stroke=\"#adc6ce\" stroke-width=\"0.025\" x1=\"-4\" x2=\"-4\" y1=\"5\" y2=\"-5\"/><line stroke=\"#adc6ce\" stroke-width=\"0.025\" x1=\"-2\" x2=\"-2\" y1=\"5\" y2=\"-5\"/><line stroke=\"#adc6ce\" stroke-width=\"0.025\" x1=\"0\" x2=\"0\" y1=\"5\" y2=\"-5\"/><line stroke=\"#adc6ce\" stroke-width=\"0.025\" x1=\"2\" x2=\"2\" y1=\"5\" y2=\"-5\"/><polygon fill=\"none\" points=\"-4,1 -4,2 -3,2 -3,1\" stroke=\"black\" stroke-width=\"0.025\"/><polygon fill=\"none\" points=\"-2,1 -1.5,2 -0.5,2 -1,1\" stroke=\"black\" stroke-width=\"0.025\"/><polygon fill=\"none\" points=\"0,1 0.75,2 1.75,2 1,1\" stroke=\"black\" stroke-width=\"0.025\"/><polygon fill=\"none\" points=\"2,1 2.9,2 3.9,2 3,1\" stroke=\"black\" stroke-width=\"0.025\"/><polygon fill=\"none\" points=\"-4,-1 -4,0 -3,0 -3,-1\" stroke=\"black\" stroke-width=\"0.025\"/><polygon fill=\"none\" points=\"-2,-1 -2.5,0 -1.5,0 -1,-1\" stroke=\"black\" stroke-width=\"0.025\"/><polygon fill=\"none\" points=\"0,-1 -0.75,0 0.25,0 1,-1\" stroke=\"black\" stroke-width=\"0.025\"/><polygon fill=\"none\" points=\"2,-1 1.1,0 2.1,0 3,-1\" stroke=\"black\" stroke-width=\"0.025\"/></g></svg>"
      ],
      "text/plain": [
       "<IPython.core.display.SVG object>"
      ]
     },
     "execution_count": 88,
     "metadata": {},
     "output_type": "execute_result"
    }
   ],
   "source": [
    "\"\"\"\n",
    "Mathematical Illustrations In PostScript\n",
    "A Manual of Geometry and PostScript\n",
    "by Bill Casselman\n",
    "http://www.math.ubc.ca/~cass/graphics/manual/\n",
    "\n",
    "Chapter 2\n",
    "\"\"\"\n",
    "\n",
    "import math\n",
    "from collections import namedtuple\n",
    "\n",
    "from IPython.display import SVG\n",
    "from lxml import etree\n",
    "\n",
    "\n",
    "##### Code I'm reusing from chapter one #####\n",
    "def get_svg_element(canvas_height, canvas_width, height, width, x_translate=0, y_translate=0):\n",
    "    svg = etree.Element(\n",
    "        \"svg\",\n",
    "        version=\"1.1\",\n",
    "        height=str(canvas_height),\n",
    "        width=str(canvas_width),\n",
    "        baseProfile=\"full\",\n",
    "        viewBox=f\"{x_translate} {y_translate} {width} {height}\",\n",
    "        lxmns=\"http://www.w3.org/2000/svg\",\n",
    "    )\n",
    "    return svg\n",
    "\n",
    "class SVGShape:\n",
    "    def __init__(self, points, stroke_width=0.025, stroke_color=\"black\", fill=\"none\"):\n",
    "        self.points = points\n",
    "        self.stroke_width = stroke_width\n",
    "        self.stroke_color = stroke_color\n",
    "        self.fill = fill\n",
    "\n",
    "        \n",
    "class Line(SVGShape):\n",
    "    def element(self):\n",
    "        self.points = [Point(str(p.x), str(p.y)) for p in self.points]\n",
    "        this_element = etree.Element(\n",
    "            \"line\",\n",
    "            x1=self.points[0].x,\n",
    "            y1=self.points[0].y,\n",
    "            x2=self.points[1].x,\n",
    "            y2=self.points[1].y,\n",
    "            stroke=self.stroke_color\n",
    "        )\n",
    "        this_element.set(\"stroke-width\", str(self.stroke_width))\n",
    "        return this_element\n",
    "\n",
    "    \n",
    "class Polygon(SVGShape):\n",
    "    def element(self):\n",
    "        points_list = \" \".join([f\"{p.x},{p.y}\" for p in self.points])\n",
    "        this_element = etree.Element(\n",
    "            \"polygon\", \n",
    "            points=points_list, \n",
    "            stroke=self.stroke_color, \n",
    "            fill=self.fill\n",
    "        )\n",
    "        this_element.set(\"stroke-width\", str(self.stroke_width))\n",
    "        return this_element\n",
    "\n",
    "\n",
    "def render_elements(elements, height=10, width=10):\n",
    "    translate = -(height/2)\n",
    "    svg = get_svg_element(500, 500, height, width, translate, translate)\n",
    "    plane = etree.Element(\"g\", transform=\"scale(1,-1)\")\n",
    "    svg.append(plane)\n",
    "    \n",
    "    for element in elements:\n",
    "        plane.append(element.element())\n",
    "        \n",
    "    return etree.tostring(svg)\n",
    "\n",
    "# Exercise 2.1. Define the skew of a parallelogram to be the length of the \n",
    "# perpendicular projection of its upper left corner onto its base line, divided \n",
    "# by the length of the base. Count negatively to the left. A parallelogram is a \n",
    "# rectangle if and only if its skew is 0. The argument above shows that if the \n",
    "# skew s satisfies 0 < s ≤ 1, then the simple decomposition will prove the \n",
    "# claim. Explain by a picture what happens if −1 ≤ s < 0.\n",
    "\n",
    "Point = namedtuple('Point', 'x y')\n",
    "\n",
    "class Parallelogram:\n",
    "    def __init__(self, base, height, skew, origin=Point(0,0)):\n",
    "        self.base = base\n",
    "        self.height = height\n",
    "        self.skew = skew\n",
    "        self.origin = origin\n",
    "        self.points = []\n",
    "        self.get_points()\n",
    "        \n",
    "    def get_points(self):\n",
    "        \"\"\"Lower left vertex A, upper left B, upper right C and lower right D\"\"\"\n",
    "        a = self.origin\n",
    "        b = Point(a.x + self.skew, a.y + self.height)\n",
    "        c = Point(b.x + self.base, b.y)\n",
    "        d = Point(a.x + self.base, a.y)\n",
    "        self.points = [a, b, c, d]\n",
    "    \n",
    "left_x_skew = [(-4, 0), (-2, .5), (0, .75), (2, .9)]\n",
    "\n",
    "lines = [Line([Point(x[0], 5), Point(x[0], -5)], stroke_color=\"#adc6ce\") for x in left_x_skew]\n",
    "\n",
    "positive_skews = [Polygon(Parallelogram(1, 1, x[1], Point(x[0], 1)).points) for x in left_x_skew]\n",
    "negative_skews = [Polygon(Parallelogram(1, 1, -x[1], Point(x[0], -1)).points) for x in left_x_skew]\n",
    "\n",
    "data = render_elements(lines + positive_skews + negative_skews)\n",
    "SVG(data=data)\n",
    "\n",
    "    "
   ]
  },
  {
   "cell_type": "code",
   "execution_count": 92,
   "metadata": {},
   "outputs": [
    {
     "data": {
      "image/svg+xml": [
       "<svg baseProfile=\"full\" height=\"500\" lxmns=\"http://www.w3.org/2000/svg\" version=\"1.1\" viewBox=\"-5.0 -5.0 10 10\" width=\"500\"><g transform=\"scale(1,-1)\"><polygon fill=\"blue\" points=\"-4,1 -3.75,2 -2.55,2 -2.8,1\" stroke=\"black\" stroke-width=\"0\"/><polygon fill=\"blue\" points=\"-2,1 -1.5,2 -0.30000000000000004,2 -0.8,1\" stroke=\"black\" stroke-width=\"0\"/><polygon fill=\"blue\" points=\"0,1 0.75,2 1.95,2 1.2,1\" stroke=\"black\" stroke-width=\"0\"/><polygon fill=\"blue\" points=\"2,1 2.9,2 4.1,2 3.2,1\" stroke=\"black\" stroke-width=\"0\"/><line stroke=\"#adc6ce\" stroke-width=\"0.025\" x1=\"-2.8\" x2=\"-2.8\" y1=\"1\" y2=\"2\"/><line stroke=\"#adc6ce\" stroke-width=\"0.025\" x1=\"-0.8\" x2=\"-0.8\" y1=\"1\" y2=\"2\"/><line stroke=\"#adc6ce\" stroke-width=\"0.025\" x1=\"1.2\" x2=\"1.2\" y1=\"1\" y2=\"2\"/><line stroke=\"#adc6ce\" stroke-width=\"0.025\" x1=\"3.2\" x2=\"3.2\" y1=\"1\" y2=\"2\"/><polygon fill=\"blue\" points=\"-4,-0.5 -3.75,0.5 -2.8,0.5 -2.8,-0.5\" stroke=\"black\" stroke-width=\"0\"/><polygon fill=\"blue\" points=\"-2,-0.5 -1.5,0.5 -0.8,0.5 -0.8,-0.5\" stroke=\"black\" stroke-width=\"0\"/><polygon fill=\"blue\" points=\"0,-0.5 0.75,0.5 1.2,0.5 1.2,-0.5\" stroke=\"black\" stroke-width=\"0\"/><polygon fill=\"blue\" points=\"2,-0.5 2.9,0.5 3.2,0.5 3.2,-0.5\" stroke=\"black\" stroke-width=\"0\"/><polygon fill=\"red\" points=\"-4.0,0.5 -3.75,0.5 -4.0,-0.5\" stroke=\"black\" stroke-width=\"0\"/><polygon fill=\"red\" points=\"-2.0,0.5 -1.5,0.5 -2.0,-0.5\" stroke=\"black\" stroke-width=\"0\"/><polygon fill=\"red\" points=\"0.0,0.5 0.75,0.5 0.0,-0.5\" stroke=\"black\" stroke-width=\"0\"/><polygon fill=\"red\" points=\"2.0,0.5 2.8999999999999995,0.5 2.0,-0.5\" stroke=\"black\" stroke-width=\"0\"/></g></svg>"
      ],
      "text/plain": [
       "<IPython.core.display.SVG object>"
      ]
     },
     "execution_count": 92,
     "metadata": {},
     "output_type": "execute_result"
    }
   ],
   "source": [
    "# Exercise 2.2. Explain the argument in the previous exercise by producing figures in PostScript.\n",
    "#\n",
    "# I'm not exactly sure what this is asking for, but I already showed that a parallelogram\n",
    "# is a rectangle if the skew is 0, so now I'm going to try to illustrate the decomposition\n",
    "# of the paralellogram into a rectangle\n",
    "\n",
    "def get_cut_point(self):\n",
    "    \"\"\"Use the X coordinate from the lower-right vertex and \n",
    "       the Y coordinate from the upper-left vertex\"\"\"\n",
    "    return Point(self.points[3].x, self.points[1].y)\n",
    "\n",
    "def cut_line(self):\n",
    "    return [self.points[3], self.get_cut_point()]\n",
    "\n",
    "def remaining_section(self):\n",
    "    return [self.points[0], self.points[1], self.get_cut_point(), self.points[3]]\n",
    "\n",
    "def cut_section(self):\n",
    "    return [Point(p.x - self.base, p.y) for p in [self.get_cut_point(), self.points[2], self.points[3]]]\n",
    "\n",
    "Parallelogram.get_cut_point = get_cut_point\n",
    "Parallelogram.cut_line = cut_line\n",
    "Parallelogram.remaining_section = remaining_section\n",
    "Parallelogram.cut_section = cut_section\n",
    "\n",
    "# paralellograms\n",
    "pgram_arguments = [(-4, .25), (-2, .5), (0, .75), (2, .9)]\n",
    "pgrams = [Parallelogram(1.2, 1, arg[1], Point(arg[0], 1)) for arg in pgram_arguments]\n",
    "pgram_elements = [Polygon(p.points, stroke_width=0, fill=\"blue\") for p in pgrams]\n",
    "lines = [Line(p.cut_line(), stroke_color=\"#adc6ce\") for p in pgrams]\n",
    "\n",
    "rectangle_pgrams = [Parallelogram(1.2, 1, arg[1], Point(arg[0], -.5)) for arg in pgram_arguments]\n",
    "remaining_sections = [Polygon(p.remaining_section(), stroke_width=0, fill=\"blue\") for p in rectangle_pgrams]\n",
    "cut_sections = [Polygon(p.cut_section(), stroke_width=0, fill=\"red\") for p in rectangle_pgrams]\n",
    "\n",
    "data = render_elements(pgram_elements + lines + remaining_sections + cut_sections)\n",
    "SVG(data=data)\n"
   ]
  },
  {
   "cell_type": "code",
   "execution_count": 121,
   "metadata": {},
   "outputs": [
    {
     "data": {
      "image/svg+xml": [
       "<svg baseProfile=\"full\" height=\"500\" lxmns=\"http://www.w3.org/2000/svg\" version=\"1.1\" viewBox=\"-5.0 -5.0 10 10\" width=\"500\"><g transform=\"scale(1,-1)\"><polygon fill=\"none\" points=\"0,3 1.5,4 2.7,4 1.2,3\" stroke=\"black\" stroke-width=\"0.025\"/><polygon fill=\"none\" points=\"0,1 -1.5,2 -0.30000000000000004,2 1.2,1\" stroke=\"black\" stroke-width=\"0.025\"/><polygon fill=\"none\" points=\"0,-1 2.9,0 4.1,0 1.2,-1\" stroke=\"black\" stroke-width=\"0.025\"/></g></svg>"
      ],
      "text/plain": [
       "<IPython.core.display.SVG object>"
      ]
     },
     "execution_count": 121,
     "metadata": {},
     "output_type": "execute_result"
    }
   ],
   "source": [
    "# Exercise 2.3. The second group of pictures shows what happens if 1 < s ≤ 2. \n",
    "# What about −2 ≤ s < −1? 2 < s ≤ 3?\n",
    "\n",
    "pgram_arguments = [(3, 1.5), (1, -1.5), (-1, 2.9)]\n",
    "pgrams = [Parallelogram(1.2, 1, arg[1], Point(0, arg[0])) for arg in pgram_arguments]\n",
    "pgram_elements = [Polygon(p.points) for p in pgrams]\n",
    "\n",
    "data = render_elements(pgram_elements)\n",
    "SVG(data=data)"
   ]
  },
  {
   "cell_type": "code",
   "execution_count": 122,
   "metadata": {},
   "outputs": [
    {
     "data": {
      "image/svg+xml": [
       "<svg baseProfile=\"full\" height=\"500\" lxmns=\"http://www.w3.org/2000/svg\" version=\"1.1\" viewBox=\"-5.0 -5.0 10 10\" width=\"500\"><g transform=\"scale(1,-1)\"><polygon fill=\"none\" points=\"0,3 1.5,4 2.7,4 1.2,3\" stroke=\"black\" stroke-width=\"0.025\"/><polygon fill=\"none\" points=\"0,1 -1.5,2 -0.30000000000000004,2 1.2,1\" stroke=\"black\" stroke-width=\"0.025\"/><polygon fill=\"none\" points=\"0,-1 2.9,0 4.1,0 1.2,-1\" stroke=\"black\" stroke-width=\"0.025\"/><line stroke=\"#adc6ce\" stroke-width=\"0.025\" x1=\"0\" x2=\"0\" y1=\"5\" y2=\"-5\"/><line stroke=\"#adc6ce\" stroke-width=\"0.025\" x1=\"-1.2\" x2=\"-1.2\" y1=\"5\" y2=\"-5\"/><line stroke=\"#adc6ce\" stroke-width=\"0.025\" x1=\"1.2\" x2=\"1.2\" y1=\"5\" y2=\"-5\"/><line stroke=\"#adc6ce\" stroke-width=\"0.025\" x1=\"-2.4\" x2=\"-2.4\" y1=\"5\" y2=\"-5\"/><line stroke=\"#adc6ce\" stroke-width=\"0.025\" x1=\"2.4\" x2=\"2.4\" y1=\"5\" y2=\"-5\"/><line stroke=\"#adc6ce\" stroke-width=\"0.025\" x1=\"-3.5999999999999996\" x2=\"-3.5999999999999996\" y1=\"5\" y2=\"-5\"/><line stroke=\"#adc6ce\" stroke-width=\"0.025\" x1=\"3.5999999999999996\" x2=\"3.5999999999999996\" y1=\"5\" y2=\"-5\"/></g></svg>"
      ],
      "text/plain": [
       "<IPython.core.display.SVG object>"
      ]
     },
     "execution_count": 122,
     "metadata": {},
     "output_type": "execute_result"
    }
   ],
   "source": [
    "# Exercise 2.4. If the skew s satisfies n < s ≤ n + 1 (n positive), what is the \n",
    "# least number of pieces in the decomposition of the parallelogram and \n",
    "# rectangle into congruent pieces suggested by the above reasoning?\n",
    "\n",
    "# skew 0 => 0 cuts (1 piece)\n",
    "# skew 0..1 => 1 cut (2 pieces)\n",
    "# skew 1..2 => 2 cuts (3 pieces, the original + 2 cuts)\n",
    "# skew -1..-2 => 2 cuts (3 pieces)\n",
    "# skew 2..3 => 3 cuts (4 pieces)\n",
    "\n",
    "# The pattern suggests a least number of n+1 pieces if n is positive\n",
    "\n",
    "def base_length_gen(base, start_x):\n",
    "    yield start_x\n",
    "    x = start_x + base\n",
    "    while x < 4:\n",
    "        yield -x\n",
    "        yield x\n",
    "        x = x + base\n",
    "    \n",
    "base = 1.2\n",
    "start_x = 0\n",
    "lines = [Line([Point(x, 5), Point(x, -5)], stroke_color=\"#adc6ce\") for x in base_length_gen(base, start_x)]\n",
    "\n",
    "data = render_elements(pgram_elements + lines)\n",
    "SVG(data=data)"
   ]
  },
  {
   "cell_type": "code",
   "execution_count": null,
   "metadata": {},
   "outputs": [],
   "source": [
    "# Exercise 2.5. The reasoning above has just shown how the decomposition of \n",
    "# rectangle and parallelogram works in a few cases, and the exercises above \n",
    "# have shown how to include a few more cases. Write out in detail a recipe for \n",
    "# making congruent decompositions of rectangle and parallelogram that will \n",
    "# prove the claim when the skew s satisfies 0 < n < s ≤ n + 1.\n",
    "\n",
    "# Given n, create \"cut points\" every base * n and use these points to \n",
    "# decompose the parallelgram. This should work for both positive and\n",
    "# negative values of n. \n",
    "\n",
    "def decompose(self):\n",
    "    \"\"\"Use self.skew and self.base to populate a list of Point[] self.pieces\n",
    "    I also want something like self.pieces_as_rectangle, I don't know if it'd be \n",
    "    better to create another list of points as I create self.pieces, or it's better\n",
    "    to create a method that modifies self.pieces and returns a list of points.\n",
    "    I'm going to try first using a seperate method because it keeps this decompose \n",
    "    method simpler.\n",
    "    \"\"\"   \n",
    "    \"\"\"\n",
    "    eh... find the vertical lines and use the equation of the parallelogram lines\n",
    "    to find the intersections, then take the original 4 points, plus all of the \n",
    "    intersection points, all of the points up to one intersecting line become a shape,\n",
    "    and then from that intersection to the next become a shape, an so on.\n",
    "    \"\"\"\n",
    "    \"\"\"\n",
    "    eh... or more like a combination of these two approaches, still iterate down the \n",
    "    parallelogram by length of base, but use equation of the line to find the endpoints\n",
    "    for each section, and make sure to include any other points in the parallelogram that\n",
    "    fall within that section, i.e. some shapes have 5 points, don't lose the 5th point.\n",
    "    \"\"\"\n",
    "    \"\"\"\n",
    "    need to get the equation of the line for the sides, and this is assuming my parallelograms \n",
    "    have a base and top with a slope = 0. So to do the operation on other parallelograms, I'd need\n",
    "    to transform them first and then I could undo the transformation at the end.\n",
    "    \"\"\"\n",
    "    \n",
    "    self.pieces = []\n",
    "    pieces_to_cut = int(self.skew) + 1\n",
    "    \n",
    "    # if skew is positive I want to work towards the right and\n",
    "    # if skew is negative I want to work towards the left...\n",
    "    \n",
    "    if self.skew > 0:\n",
    "        base = self.base\n",
    "    else:\n",
    "        base = -self.base\n",
    "    \n",
    "    start_bottom = self.points[0]\n",
    "    start_top = self.points[1]\n",
    "    \n",
    "    while pieces_to_cut: \n",
    "        end_bottom = start_bottom * base\n",
    "        end_top = \n",
    "    \n",
    "    \n",
    "    \n",
    "    "
   ]
  },
  {
   "cell_type": "code",
   "execution_count": 124,
   "metadata": {},
   "outputs": [
    {
     "data": {
      "text/plain": [
       "5"
      ]
     },
     "execution_count": 124,
     "metadata": {},
     "output_type": "execute_result"
    }
   ],
   "source": [
    "int(5.9)"
   ]
  }
 ],
 "metadata": {
  "kernelspec": {
   "display_name": "Python 3",
   "language": "python",
   "name": "python3"
  },
  "language_info": {
   "codemirror_mode": {
    "name": "ipython",
    "version": 3
   },
   "file_extension": ".py",
   "mimetype": "text/x-python",
   "name": "python",
   "nbconvert_exporter": "python",
   "pygments_lexer": "ipython3",
   "version": "3.6.7"
  }
 },
 "nbformat": 4,
 "nbformat_minor": 2
}
